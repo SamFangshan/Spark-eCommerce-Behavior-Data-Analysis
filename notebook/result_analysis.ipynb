{
 "cells": [
  {
   "cell_type": "markdown",
   "metadata": {},
   "source": [
    "# Spark Job Output Analysis"
   ]
  },
  {
   "cell_type": "markdown",
   "metadata": {},
   "source": [
    "The Spark job took around 1 hour to finish. Not all output files are to be analyzed."
   ]
  },
  {
   "cell_type": "code",
   "execution_count": 2,
   "metadata": {},
   "outputs": [],
   "source": [
    "import datetime\n",
    "\n",
    "import pandas as pd\n",
    "from util.csv_tool import MergedDataFrameReader\n",
    "from util.txt_tool import HistogramDataPointReader\n",
    "\n",
    "import matplotlib.pyplot as plt\n",
    "import matplotlib.dates as mdates\n",
    "import seaborn as sb"
   ]
  },
  {
   "cell_type": "markdown",
   "metadata": {},
   "source": [
    "### Events"
   ]
  },
  {
   "cell_type": "markdown",
   "metadata": {},
   "source": [
    "* We first explore event patterns aggregated by days"
   ]
  },
  {
   "cell_type": "code",
   "execution_count": 3,
   "metadata": {},
   "outputs": [],
   "source": [
    "columns = ['num_views', 'num_carts', 'num_remove_from_carts', 'num_purchases', 'num_events', 'date']"
   ]
  },
  {
   "cell_type": "code",
   "execution_count": 4,
   "metadata": {},
   "outputs": [
    {
     "data": {
      "text/html": [
       "<div>\n",
       "<style scoped>\n",
       "    .dataframe tbody tr th:only-of-type {\n",
       "        vertical-align: middle;\n",
       "    }\n",
       "\n",
       "    .dataframe tbody tr th {\n",
       "        vertical-align: top;\n",
       "    }\n",
       "\n",
       "    .dataframe thead th {\n",
       "        text-align: right;\n",
       "    }\n",
       "</style>\n",
       "<table border=\"1\" class=\"dataframe\">\n",
       "  <thead>\n",
       "    <tr style=\"text-align: right;\">\n",
       "      <th></th>\n",
       "      <th>num_views</th>\n",
       "      <th>num_carts</th>\n",
       "      <th>num_remove_from_carts</th>\n",
       "      <th>num_purchases</th>\n",
       "      <th>num_events</th>\n",
       "      <th>date</th>\n",
       "    </tr>\n",
       "  </thead>\n",
       "  <tbody>\n",
       "    <tr>\n",
       "      <th>0</th>\n",
       "      <td>1629581</td>\n",
       "      <td>73045</td>\n",
       "      <td>0</td>\n",
       "      <td>27525</td>\n",
       "      <td>1730151</td>\n",
       "      <td>2020-01-13</td>\n",
       "    </tr>\n",
       "    <tr>\n",
       "      <th>1</th>\n",
       "      <td>2505178</td>\n",
       "      <td>124014</td>\n",
       "      <td>0</td>\n",
       "      <td>41579</td>\n",
       "      <td>2670771</td>\n",
       "      <td>2020-04-24</td>\n",
       "    </tr>\n",
       "    <tr>\n",
       "      <th>2</th>\n",
       "      <td>1619593</td>\n",
       "      <td>72240</td>\n",
       "      <td>0</td>\n",
       "      <td>26059</td>\n",
       "      <td>1717892</td>\n",
       "      <td>2020-01-11</td>\n",
       "    </tr>\n",
       "    <tr>\n",
       "      <th>0</th>\n",
       "      <td>1584010</td>\n",
       "      <td>72518</td>\n",
       "      <td>0</td>\n",
       "      <td>27403</td>\n",
       "      <td>1683931</td>\n",
       "      <td>2020-01-29</td>\n",
       "    </tr>\n",
       "    <tr>\n",
       "      <th>1</th>\n",
       "      <td>1730397</td>\n",
       "      <td>101668</td>\n",
       "      <td>0</td>\n",
       "      <td>28426</td>\n",
       "      <td>1860491</td>\n",
       "      <td>2020-02-07</td>\n",
       "    </tr>\n",
       "  </tbody>\n",
       "</table>\n",
       "</div>"
      ],
      "text/plain": [
       "   num_views  num_carts  num_remove_from_carts  num_purchases  num_events  \\\n",
       "0    1629581      73045                      0          27525     1730151   \n",
       "1    2505178     124014                      0          41579     2670771   \n",
       "2    1619593      72240                      0          26059     1717892   \n",
       "0    1584010      72518                      0          27403     1683931   \n",
       "1    1730397     101668                      0          28426     1860491   \n",
       "\n",
       "        date  \n",
       "0 2020-01-13  \n",
       "1 2020-04-24  \n",
       "2 2020-01-11  \n",
       "0 2020-01-29  \n",
       "1 2020-02-07  "
      ]
     },
     "execution_count": 4,
     "metadata": {},
     "output_type": "execute_result"
    }
   ],
   "source": [
    "reader = MergedDataFrameReader('../output/exploreTotalEvents/eventsAggByDay.csv', columns)\n",
    "total_events_df = reader.read_csvs_as_one()\n",
    "total_events_df[columns[0:-1]] = total_events_df[columns[0:-1]].apply(pd.to_numeric)\n",
    "total_events_df['date'].apply(pd.to_datetime)\n",
    "total_events_df['date'] = pd.DatetimeIndex(total_events_df['date'])\n",
    "total_events_df.head()"
   ]
  },
  {
   "cell_type": "code",
   "execution_count": 5,
   "metadata": {},
   "outputs": [
    {
     "data": {
      "image/png": "[encoded data removed]",
      "text/plain": [
       "<Figure size 1152x576 with 1 Axes>"
      ]
     },
     "metadata": {
      "needs_background": "light"
     },
     "output_type": "display_data"
    }
   ],
   "source": [
    "f, axes = plt.subplots(1, 1, figsize=(16, 8))\n",
    "ax = sb.lineplot(data=total_events_df.set_index('date'), dashes=False)\n",
    "ax.xaxis.set_major_formatter(mdates.DateFormatter('%Y-%m-%d'))\n",
    "ax.xaxis.set_major_locator(mdates.DayLocator(interval=15))\n",
    "plt.gcf().autofmt_xdate()\n",
    "plt.ticklabel_format(style='plain', axis='y')\n",
    "plt.show()"
   ]
  },
  {
   "cell_type": "markdown",
   "metadata": {},
   "source": [
    "As we can see from this graph, the number of daily views began to surge from 13 Nov 2019, and peaked on 16 Nov 2019. The number of cart events also started rising on 13 Nov 2019, and peaked on 15 Nov 2019. The number of purchases peaked on 17 Nov 2019. So I believe there should be a promotion on this ecommerce site on 17 Nov 2019, and users had been preparing for it a fews days ago.\n",
    "It's also interesting to see that on 27 Feb 2020, there was a sudden drop on the number of view and cart events, and the numbers gradually rose back again after 28 Feb 2020. But the number of purchase events remained quite stable at the same time. I do not have any background knowledge of what this site is and where in the world the site operates. I suspect such sudden drop in the number of events could only be caused by exceptional system behavior (backend server upgrade, system glitch, etc.)"
   ]
  },
  {
   "cell_type": "markdown",
   "metadata": {},
   "source": [
    "* We then explore event patterns aggregated by months."
   ]
  },
  {
   "cell_type": "code",
   "execution_count": 6,
   "metadata": {},
   "outputs": [
    {
     "data": {
      "text/html": [
       "<div>\n",
       "<style scoped>\n",
       "    .dataframe tbody tr th:only-of-type {\n",
       "        vertical-align: middle;\n",
       "    }\n",
       "\n",
       "    .dataframe tbody tr th {\n",
       "        vertical-align: top;\n",
       "    }\n",
       "\n",
       "    .dataframe thead th {\n",
       "        text-align: right;\n",
       "    }\n",
       "</style>\n",
       "<table border=\"1\" class=\"dataframe\">\n",
       "  <thead>\n",
       "    <tr style=\"text-align: right;\">\n",
       "      <th></th>\n",
       "      <th>num_views</th>\n",
       "      <th>num_carts</th>\n",
       "      <th>num_remove_from_carts</th>\n",
       "      <th>num_purchases</th>\n",
       "      <th>num_events</th>\n",
       "      <th>month</th>\n",
       "    </tr>\n",
       "  </thead>\n",
       "  <tbody>\n",
       "    <tr>\n",
       "      <th>0</th>\n",
       "      <td>51232669</td>\n",
       "      <td>2885608</td>\n",
       "      <td>0</td>\n",
       "      <td>1200288</td>\n",
       "      <td>55318565</td>\n",
       "      <td>2020-02-01</td>\n",
       "    </tr>\n",
       "    <tr>\n",
       "      <th>0</th>\n",
       "      <td>52490785</td>\n",
       "      <td>2641249</td>\n",
       "      <td>0</td>\n",
       "      <td>835007</td>\n",
       "      <td>55967041</td>\n",
       "      <td>2020-01-01</td>\n",
       "    </tr>\n",
       "    <tr>\n",
       "      <th>0</th>\n",
       "      <td>62986067</td>\n",
       "      <td>3394763</td>\n",
       "      <td>0</td>\n",
       "      <td>1162048</td>\n",
       "      <td>67542878</td>\n",
       "      <td>2019-12-01</td>\n",
       "    </tr>\n",
       "    <tr>\n",
       "      <th>0</th>\n",
       "      <td>63556110</td>\n",
       "      <td>3028930</td>\n",
       "      <td>0</td>\n",
       "      <td>916939</td>\n",
       "      <td>67501979</td>\n",
       "      <td>2019-11-01</td>\n",
       "    </tr>\n",
       "    <tr>\n",
       "      <th>0</th>\n",
       "      <td>62353909</td>\n",
       "      <td>3268600</td>\n",
       "      <td>0</td>\n",
       "      <td>966759</td>\n",
       "      <td>66589268</td>\n",
       "      <td>2020-04-01</td>\n",
       "    </tr>\n",
       "  </tbody>\n",
       "</table>\n",
       "</div>"
      ],
      "text/plain": [
       "   num_views  num_carts  num_remove_from_carts  num_purchases  num_events  \\\n",
       "0   51232669    2885608                      0        1200288    55318565   \n",
       "0   52490785    2641249                      0         835007    55967041   \n",
       "0   62986067    3394763                      0        1162048    67542878   \n",
       "0   63556110    3028930                      0         916939    67501979   \n",
       "0   62353909    3268600                      0         966759    66589268   \n",
       "\n",
       "       month  \n",
       "0 2020-02-01  \n",
       "0 2020-01-01  \n",
       "0 2019-12-01  \n",
       "0 2019-11-01  \n",
       "0 2020-04-01  "
      ]
     },
     "execution_count": 6,
     "metadata": {},
     "output_type": "execute_result"
    }
   ],
   "source": [
    "columns[-1] = 'month'\n",
    "reader = MergedDataFrameReader('../output/exploreTotalEvents/eventsAggByMonth.csv', columns)\n",
    "total_events_df = reader.read_csvs_as_one()\n",
    "total_events_df[columns[0:-1]] = total_events_df[columns[0:-1]].apply(pd.to_numeric)\n",
    "total_events_df['month'].apply(pd.to_datetime)\n",
    "total_events_df['month'] = pd.DatetimeIndex(total_events_df['month'])\n",
    "total_events_df.head()"
   ]
  },
  {
   "cell_type": "code",
   "execution_count": 7,
   "metadata": {},
   "outputs": [
    {
     "data": {
      "image/png": "[encoded data removed]",
      "text/plain": [
       "<Figure size 1152x576 with 1 Axes>"
      ]
     },
     "metadata": {
      "needs_background": "light"
     },
     "output_type": "display_data"
    }
   ],
   "source": [
    "f, axes = plt.subplots(1, 1, figsize=(16, 8))\n",
    "ax = sb.lineplot(data=total_events_df.set_index('month'), dashes=False)\n",
    "ax.xaxis.set_major_formatter(mdates.DateFormatter('%Y-%m'))\n",
    "ax.xaxis.set_major_locator(mdates.MonthLocator())\n",
    "plt.ticklabel_format(style='plain', axis='y')\n",
    "plt.show()"
   ]
  },
  {
   "cell_type": "markdown",
   "metadata": {},
   "source": [
    "* We also take a look at aggregated event numbers over the 7 months."
   ]
  },
  {
   "cell_type": "code",
   "execution_count": 8,
   "metadata": {},
   "outputs": [
    {
     "data": {
      "text/html": [
       "<div>\n",
       "<style scoped>\n",
       "    .dataframe tbody tr th:only-of-type {\n",
       "        vertical-align: middle;\n",
       "    }\n",
       "\n",
       "    .dataframe tbody tr th {\n",
       "        vertical-align: top;\n",
       "    }\n",
       "\n",
       "    .dataframe thead th {\n",
       "        text-align: right;\n",
       "    }\n",
       "</style>\n",
       "<table border=\"1\" class=\"dataframe\">\n",
       "  <thead>\n",
       "    <tr style=\"text-align: right;\">\n",
       "      <th></th>\n",
       "      <th>num_views</th>\n",
       "      <th>num_carts</th>\n",
       "      <th>num_remove_from_carts</th>\n",
       "      <th>num_purchases</th>\n",
       "      <th>num_events</th>\n",
       "    </tr>\n",
       "  </thead>\n",
       "  <tbody>\n",
       "    <tr>\n",
       "      <th>0</th>\n",
       "      <td>385746849</td>\n",
       "      <td>19114063</td>\n",
       "      <td>0</td>\n",
       "      <td>6848824</td>\n",
       "      <td>411709736</td>\n",
       "    </tr>\n",
       "  </tbody>\n",
       "</table>\n",
       "</div>"
      ],
      "text/plain": [
       "   num_views  num_carts  num_remove_from_carts  num_purchases  num_events\n",
       "0  385746849   19114063                      0        6848824   411709736"
      ]
     },
     "execution_count": 8,
     "metadata": {},
     "output_type": "execute_result"
    }
   ],
   "source": [
    "reader = MergedDataFrameReader('../output/exploreTotalEvents/eventsAgg.csv', columns[0:-1])\n",
    "total_events_df = reader.read_csvs_as_one()\n",
    "total_events_df.head()"
   ]
  },
  {
   "cell_type": "code",
   "execution_count": 9,
   "metadata": {},
   "outputs": [
    {
     "data": {
      "text/plain": [
       "<matplotlib.axes._subplots.AxesSubplot at 0x12239d850>"
      ]
     },
     "execution_count": 9,
     "metadata": {},
     "output_type": "execute_result"
    },
    {
     "data": {
      "image/png": "[encoded data removed]",
      "text/plain": [
       "<Figure size 864x432 with 1 Axes>"
      ]
     },
     "metadata": {},
     "output_type": "display_data"
    }
   ],
   "source": [
    "pd.Series(total_events_df.iloc[:,0:-1].iloc[0]).plot.pie(figsize=(12, 6))"
   ]
  },
  {
   "cell_type": "markdown",
   "metadata": {},
   "source": [
    "The absolute majority of the events came from user views. Among the remaining events, there were more cart events than any others. The number of cart events was more than twice as much as that of purchase events. However, it's surprising to see that there was no remove from cart events at all. I suspect it could be because this site was somehow unable to capture such events to their log."
   ]
  },
  {
   "cell_type": "markdown",
   "metadata": {},
   "source": [
    "* Typical daily number of activities? See the distribution"
   ]
  },
  {
   "cell_type": "code",
   "execution_count": 10,
   "metadata": {},
   "outputs": [
    {
     "data": {
      "image/png": "[encoded data removed]",
      "text/plain": [
       "<Figure size 1152x576 with 4 Axes>"
      ]
     },
     "metadata": {
      "needs_background": "light"
     },
     "output_type": "display_data"
    }
   ],
   "source": [
    "f, axes = plt.subplots(2, 2, figsize=(16, 8))\n",
    "\n",
    "intervals, counts = HistogramDataPointReader('../output/exploreTotalEvents/totalEventsHist.txt').read()\n",
    "axes[0,0].hist((intervals[1:] + intervals[:-1]) / 2, bins=len(counts), weights=counts, range=(min(intervals), max(intervals)))\n",
    "axes[0,0].set_xlabel('Number of Events')\n",
    "axes[0,0].ticklabel_format(style='plain')\n",
    "\n",
    "intervals, counts = HistogramDataPointReader('../output/exploreTotalEvents/totalViewsHist.txt').read()\n",
    "axes[0,1].hist((intervals[1:] + intervals[:-1]) / 2, bins=len(counts), weights=counts, range=(min(intervals), max(intervals)))\n",
    "axes[0,1].set_xlabel('Number of Views')\n",
    "axes[0,1].ticklabel_format(style='plain')\n",
    "\n",
    "intervals, counts = HistogramDataPointReader('../output/exploreTotalEvents/totalCartsHist.txt').read()\n",
    "axes[1,0].hist((intervals[1:] + intervals[:-1]) / 2, bins=len(counts), weights=counts, range=(min(intervals), max(intervals)))\n",
    "axes[1,0].set_xlabel('Number of Carts')\n",
    "\n",
    "intervals, counts = HistogramDataPointReader('../output/exploreTotalEvents/totalPurchasesHist.txt').read()\n",
    "axes[1,1].hist((intervals[1:] + intervals[:-1]) / 2, bins=len(counts), weights=counts, range=(min(intervals), max(intervals)))\n",
    "axes[1,1].set_xlabel('Number of Purchases')\n",
    "\n",
    "plt.show()"
   ]
  },
  {
   "cell_type": "markdown",
   "metadata": {},
   "source": [
    "* Users generated most events daily"
   ]
  },
  {
   "cell_type": "code",
   "execution_count": 11,
   "metadata": {},
   "outputs": [
    {
     "data": {
      "text/html": [
       "<div>\n",
       "<style scoped>\n",
       "    .dataframe tbody tr th:only-of-type {\n",
       "        vertical-align: middle;\n",
       "    }\n",
       "\n",
       "    .dataframe tbody tr th {\n",
       "        vertical-align: top;\n",
       "    }\n",
       "\n",
       "    .dataframe thead th {\n",
       "        text-align: right;\n",
       "    }\n",
       "</style>\n",
       "<table border=\"1\" class=\"dataframe\">\n",
       "  <thead>\n",
       "    <tr style=\"text-align: right;\">\n",
       "      <th></th>\n",
       "      <th>user_id</th>\n",
       "      <th>num_events</th>\n",
       "    </tr>\n",
       "  </thead>\n",
       "  <tbody>\n",
       "    <tr>\n",
       "      <th>0</th>\n",
       "      <td>569335945</td>\n",
       "      <td>1298</td>\n",
       "    </tr>\n",
       "    <tr>\n",
       "      <th>0</th>\n",
       "      <td>569335945</td>\n",
       "      <td>1159</td>\n",
       "    </tr>\n",
       "    <tr>\n",
       "      <th>0</th>\n",
       "      <td>572500237</td>\n",
       "      <td>543</td>\n",
       "    </tr>\n",
       "    <tr>\n",
       "      <th>0</th>\n",
       "      <td>568466117</td>\n",
       "      <td>500</td>\n",
       "    </tr>\n",
       "    <tr>\n",
       "      <th>0</th>\n",
       "      <td>568778435</td>\n",
       "      <td>2386</td>\n",
       "    </tr>\n",
       "  </tbody>\n",
       "</table>\n",
       "</div>"
      ],
      "text/plain": [
       "     user_id num_events\n",
       "0  569335945       1298\n",
       "0  569335945       1159\n",
       "0  572500237        543\n",
       "0  568466117        500\n",
       "0  568778435       2386"
      ]
     },
     "execution_count": 11,
     "metadata": {},
     "output_type": "execute_result"
    }
   ],
   "source": [
    "columns = ['user_id', 'num_events']\n",
    "reader = MergedDataFrameReader('../output/exploreUsersWithMaxEvents/topUserEventPerDayResult.csv', columns)\n",
    "user_events_df = reader.read_csvs_as_one()\n",
    "user_events_df.head()"
   ]
  },
  {
   "cell_type": "code",
   "execution_count": 12,
   "metadata": {},
   "outputs": [
    {
     "data": {
      "text/plain": [
       "597644399    55\n",
       "568778435    25\n",
       "569335945    14\n",
       "565484478     6\n",
       "512475445     4\n",
       "             ..\n",
       "537873067     1\n",
       "638783917     1\n",
       "514649263     1\n",
       "547199156     1\n",
       "648264194     1\n",
       "Name: user_id, Length: 101, dtype: int64"
      ]
     },
     "execution_count": 12,
     "metadata": {},
     "output_type": "execute_result"
    }
   ],
   "source": [
    "user_events_df['user_id'].value_counts()"
   ]
  },
  {
   "cell_type": "markdown",
   "metadata": {},
   "source": [
    "User `597644399` generated the most daily events for 55 days out of the 213-day period."
   ]
  },
  {
   "cell_type": "code",
   "execution_count": 13,
   "metadata": {},
   "outputs": [
    {
     "data": {
      "text/html": [
       "<div>\n",
       "<style scoped>\n",
       "    .dataframe tbody tr th:only-of-type {\n",
       "        vertical-align: middle;\n",
       "    }\n",
       "\n",
       "    .dataframe tbody tr th {\n",
       "        vertical-align: top;\n",
       "    }\n",
       "\n",
       "    .dataframe thead th {\n",
       "        text-align: right;\n",
       "    }\n",
       "</style>\n",
       "<table border=\"1\" class=\"dataframe\">\n",
       "  <thead>\n",
       "    <tr style=\"text-align: right;\">\n",
       "      <th></th>\n",
       "      <th>user_id</th>\n",
       "      <th>num_events</th>\n",
       "    </tr>\n",
       "  </thead>\n",
       "  <tbody>\n",
       "    <tr>\n",
       "      <th>0</th>\n",
       "      <td>648775038</td>\n",
       "      <td>32363</td>\n",
       "    </tr>\n",
       "  </tbody>\n",
       "</table>\n",
       "</div>"
      ],
      "text/plain": [
       "     user_id num_events\n",
       "0  648775038      32363"
      ]
     },
     "execution_count": 13,
     "metadata": {},
     "output_type": "execute_result"
    }
   ],
   "source": [
    "user_events_df[user_events_df['num_events'] == user_events_df['num_events'].max()]"
   ]
  },
  {
   "cell_type": "code",
   "execution_count": 14,
   "metadata": {},
   "outputs": [
    {
     "data": {
      "text/html": [
       "<div>\n",
       "<style scoped>\n",
       "    .dataframe tbody tr th:only-of-type {\n",
       "        vertical-align: middle;\n",
       "    }\n",
       "\n",
       "    .dataframe tbody tr th {\n",
       "        vertical-align: top;\n",
       "    }\n",
       "\n",
       "    .dataframe thead th {\n",
       "        text-align: right;\n",
       "    }\n",
       "</style>\n",
       "<table border=\"1\" class=\"dataframe\">\n",
       "  <thead>\n",
       "    <tr style=\"text-align: right;\">\n",
       "      <th></th>\n",
       "      <th>user_id</th>\n",
       "      <th>num_events</th>\n",
       "    </tr>\n",
       "  </thead>\n",
       "  <tbody>\n",
       "    <tr>\n",
       "      <th>1</th>\n",
       "      <td>597644399</td>\n",
       "      <td>3503</td>\n",
       "    </tr>\n",
       "  </tbody>\n",
       "</table>\n",
       "</div>"
      ],
      "text/plain": [
       "     user_id num_events\n",
       "1  597644399       3503"
      ]
     },
     "execution_count": 14,
     "metadata": {},
     "output_type": "execute_result"
    }
   ],
   "source": [
    "user_events_df[user_events_df['num_events'] == user_events_df[user_events_df['user_id'] == 597644399]['num_events'].max()]"
   ]
  },
  {
   "cell_type": "code",
   "execution_count": 15,
   "metadata": {},
   "outputs": [
    {
     "data": {
      "text/html": [
       "<div>\n",
       "<style scoped>\n",
       "    .dataframe tbody tr th:only-of-type {\n",
       "        vertical-align: middle;\n",
       "    }\n",
       "\n",
       "    .dataframe tbody tr th {\n",
       "        vertical-align: top;\n",
       "    }\n",
       "\n",
       "    .dataframe thead th {\n",
       "        text-align: right;\n",
       "    }\n",
       "</style>\n",
       "<table border=\"1\" class=\"dataframe\">\n",
       "  <thead>\n",
       "    <tr style=\"text-align: right;\">\n",
       "      <th></th>\n",
       "      <th>user_id</th>\n",
       "      <th>num_events</th>\n",
       "    </tr>\n",
       "  </thead>\n",
       "  <tbody>\n",
       "    <tr>\n",
       "      <th>0</th>\n",
       "      <td>648775038</td>\n",
       "      <td>32363</td>\n",
       "    </tr>\n",
       "  </tbody>\n",
       "</table>\n",
       "</div>"
      ],
      "text/plain": [
       "     user_id num_events\n",
       "0  648775038      32363"
      ]
     },
     "execution_count": 15,
     "metadata": {},
     "output_type": "execute_result"
    }
   ],
   "source": [
    "user_events_df[user_events_df['user_id'] == 648775038]"
   ]
  },
  {
   "cell_type": "markdown",
   "metadata": {},
   "source": [
    "But `597644399` failed to be a user that produced a record-high number of events. `648775038` once produced 32,363 number of events in a single day, making this user the user who made the highest daily number of events. This is incredible, since 32,363 events means 22.5 events per minute (on average) over the 24-hour period consecutively without rest. If the user slept for 6 hours on that day, the user would need to produce 30 events per minute (on average) during the day, or 1 event per 2 seconds, without taking a break at all. Over the 7-month period, this user only appeared on that site for one day. Therefore, I don't believe this user was a real human. It could be a bot crawling the site😛."
   ]
  },
  {
   "cell_type": "markdown",
   "metadata": {},
   "source": [
    "### Turnover & User Spending"
   ]
  },
  {
   "cell_type": "markdown",
   "metadata": {},
   "source": [
    "* We first explore turnovers by days"
   ]
  },
  {
   "cell_type": "code",
   "execution_count": 16,
   "metadata": {},
   "outputs": [
    {
     "data": {
      "text/html": [
       "<div>\n",
       "<style scoped>\n",
       "    .dataframe tbody tr th:only-of-type {\n",
       "        vertical-align: middle;\n",
       "    }\n",
       "\n",
       "    .dataframe tbody tr th {\n",
       "        vertical-align: top;\n",
       "    }\n",
       "\n",
       "    .dataframe thead th {\n",
       "        text-align: right;\n",
       "    }\n",
       "</style>\n",
       "<table border=\"1\" class=\"dataframe\">\n",
       "  <thead>\n",
       "    <tr style=\"text-align: right;\">\n",
       "      <th></th>\n",
       "      <th>turnover</th>\n",
       "      <th>date</th>\n",
       "    </tr>\n",
       "  </thead>\n",
       "  <tbody>\n",
       "    <tr>\n",
       "      <th>0</th>\n",
       "      <td>9419655.52</td>\n",
       "      <td>2020-01-23</td>\n",
       "    </tr>\n",
       "    <tr>\n",
       "      <th>0</th>\n",
       "      <td>7470344.60</td>\n",
       "      <td>2019-10-24</td>\n",
       "    </tr>\n",
       "    <tr>\n",
       "      <th>0</th>\n",
       "      <td>7666737.93</td>\n",
       "      <td>2019-12-14</td>\n",
       "    </tr>\n",
       "    <tr>\n",
       "      <th>1</th>\n",
       "      <td>8813543.07</td>\n",
       "      <td>2020-02-25</td>\n",
       "    </tr>\n",
       "    <tr>\n",
       "      <th>2</th>\n",
       "      <td>6369797.09</td>\n",
       "      <td>2020-03-29</td>\n",
       "    </tr>\n",
       "  </tbody>\n",
       "</table>\n",
       "</div>"
      ],
      "text/plain": [
       "     turnover       date\n",
       "0  9419655.52 2020-01-23\n",
       "0  7470344.60 2019-10-24\n",
       "0  7666737.93 2019-12-14\n",
       "1  8813543.07 2020-02-25\n",
       "2  6369797.09 2020-03-29"
      ]
     },
     "execution_count": 16,
     "metadata": {},
     "output_type": "execute_result"
    }
   ],
   "source": [
    "columns = ['turnover', 'date']\n",
    "reader = MergedDataFrameReader('../output/exploreTurnover/turnoverAggByDay.csv', columns)\n",
    "turnovers_df = reader.read_csvs_as_one()\n",
    "turnovers_df[columns[0:-1]] = turnovers_df[columns[0:-1]].apply(pd.to_numeric)\n",
    "turnovers_df['date'].apply(pd.to_datetime)\n",
    "turnovers_df['date'] = pd.DatetimeIndex(turnovers_df['date'])\n",
    "turnovers_df.head()"
   ]
  },
  {
   "cell_type": "code",
   "execution_count": 17,
   "metadata": {},
   "outputs": [
    {
     "data": {
      "image/png": "[encoded data removed]",
      "text/plain": [
       "<Figure size 1152x576 with 1 Axes>"
      ]
     },
     "metadata": {
      "needs_background": "light"
     },
     "output_type": "display_data"
    }
   ],
   "source": [
    "f, axes = plt.subplots(1, 1, figsize=(16, 8))\n",
    "ax = sb.lineplot(data=turnovers_df.set_index('date'), dashes=False)\n",
    "ax.xaxis.set_major_formatter(mdates.DateFormatter('%Y-%m-%d'))\n",
    "ax.xaxis.set_major_locator(mdates.DayLocator(interval=15))\n",
    "plt.gcf().autofmt_xdate()\n",
    "plt.ticklabel_format(style='plain', axis='y')\n",
    "plt.show()"
   ]
  },
  {
   "cell_type": "markdown",
   "metadata": {},
   "source": [
    "Quite unsurprisingly, the day with the highest turnover is the same day on which the number of purchase events peaked (17 Nov 2019). The total turnover of the day was 57,774,481.92 dollars (currency unknown). The day where the suspected system glitch occurred didn't cause purchase events to fluctuate, which should be expected."
   ]
  },
  {
   "cell_type": "markdown",
   "metadata": {},
   "source": [
    "* We then explore turnovers aggregated by months."
   ]
  },
  {
   "cell_type": "code",
   "execution_count": 18,
   "metadata": {},
   "outputs": [
    {
     "data": {
      "text/html": [
       "<div>\n",
       "<style scoped>\n",
       "    .dataframe tbody tr th:only-of-type {\n",
       "        vertical-align: middle;\n",
       "    }\n",
       "\n",
       "    .dataframe tbody tr th {\n",
       "        vertical-align: top;\n",
       "    }\n",
       "\n",
       "    .dataframe thead th {\n",
       "        text-align: right;\n",
       "    }\n",
       "</style>\n",
       "<table border=\"1\" class=\"dataframe\">\n",
       "  <thead>\n",
       "    <tr style=\"text-align: right;\">\n",
       "      <th></th>\n",
       "      <th>turnover</th>\n",
       "      <th>month</th>\n",
       "    </tr>\n",
       "  </thead>\n",
       "  <tbody>\n",
       "    <tr>\n",
       "      <th>0</th>\n",
       "      <td>2.445258e+08</td>\n",
       "      <td>2020-04-01</td>\n",
       "    </tr>\n",
       "    <tr>\n",
       "      <th>0</th>\n",
       "      <td>2.751949e+08</td>\n",
       "      <td>2019-11-01</td>\n",
       "    </tr>\n",
       "    <tr>\n",
       "      <th>0</th>\n",
       "      <td>2.299575e+08</td>\n",
       "      <td>2019-10-01</td>\n",
       "    </tr>\n",
       "    <tr>\n",
       "      <th>0</th>\n",
       "      <td>3.213784e+08</td>\n",
       "      <td>2020-03-01</td>\n",
       "    </tr>\n",
       "    <tr>\n",
       "      <th>0</th>\n",
       "      <td>3.811789e+08</td>\n",
       "      <td>2020-02-01</td>\n",
       "    </tr>\n",
       "  </tbody>\n",
       "</table>\n",
       "</div>"
      ],
      "text/plain": [
       "       turnover      month\n",
       "0  2.445258e+08 2020-04-01\n",
       "0  2.751949e+08 2019-11-01\n",
       "0  2.299575e+08 2019-10-01\n",
       "0  3.213784e+08 2020-03-01\n",
       "0  3.811789e+08 2020-02-01"
      ]
     },
     "execution_count": 18,
     "metadata": {},
     "output_type": "execute_result"
    }
   ],
   "source": [
    "columns = ['turnover', 'month']\n",
    "reader = MergedDataFrameReader('../output/exploreTurnover/turnoverAggByMonth.csv', columns)\n",
    "turnovers_df = reader.read_csvs_as_one()\n",
    "turnovers_df[columns[0:-1]] = turnovers_df[columns[0:-1]].apply(pd.to_numeric)\n",
    "turnovers_df['month'].apply(pd.to_datetime)\n",
    "turnovers_df['month'] = pd.DatetimeIndex(turnovers_df['month'])\n",
    "turnovers_df.head()"
   ]
  },
  {
   "cell_type": "code",
   "execution_count": 19,
   "metadata": {},
   "outputs": [
    {
     "data": {
      "image/png": "[encoded data removed]",
      "text/plain": [
       "<Figure size 1152x576 with 1 Axes>"
      ]
     },
     "metadata": {
      "needs_background": "light"
     },
     "output_type": "display_data"
    }
   ],
   "source": [
    "f, axes = plt.subplots(1, 1, figsize=(16, 8))\n",
    "ax = sb.lineplot(data=turnovers_df.set_index('month'), dashes=False)\n",
    "ax.xaxis.set_major_formatter(mdates.DateFormatter('%Y-%m'))\n",
    "ax.xaxis.set_major_locator(mdates.MonthLocator())\n",
    "plt.ticklabel_format(style='plain', axis='y')\n",
    "plt.show()"
   ]
  },
  {
   "cell_type": "markdown",
   "metadata": {},
   "source": [
    "* Typical daily turnover? See the distribution"
   ]
  },
  {
   "cell_type": "code",
   "execution_count": 20,
   "metadata": {},
   "outputs": [
    {
     "data": {
      "image/png": "[encoded data removed]",
      "text/plain": [
       "<Figure size 576x288 with 1 Axes>"
      ]
     },
     "metadata": {
      "needs_background": "light"
     },
     "output_type": "display_data"
    }
   ],
   "source": [
    "f, axes = plt.subplots(1, 1, figsize=(8, 4))\n",
    "intervals, counts = HistogramDataPointReader('../output/exploreTurnover/turnoverPerDayHist.txt').read()\n",
    "plt.hist((intervals[1:] + intervals[:-1]) / 2, bins=len(counts), weights=counts, range=(min(intervals), max(intervals)))\n",
    "plt.xlabel('Turnovers')\n",
    "plt.ticklabel_format(style='plain')\n",
    "plt.show()"
   ]
  },
  {
   "cell_type": "markdown",
   "metadata": {},
   "source": [
    "* Users spent the most daily"
   ]
  },
  {
   "cell_type": "code",
   "execution_count": 21,
   "metadata": {},
   "outputs": [
    {
     "data": {
      "text/html": [
       "<div>\n",
       "<style scoped>\n",
       "    .dataframe tbody tr th:only-of-type {\n",
       "        vertical-align: middle;\n",
       "    }\n",
       "\n",
       "    .dataframe tbody tr th {\n",
       "        vertical-align: top;\n",
       "    }\n",
       "\n",
       "    .dataframe thead th {\n",
       "        text-align: right;\n",
       "    }\n",
       "</style>\n",
       "<table border=\"1\" class=\"dataframe\">\n",
       "  <thead>\n",
       "    <tr style=\"text-align: right;\">\n",
       "      <th></th>\n",
       "      <th>user_id</th>\n",
       "      <th>spending</th>\n",
       "      <th>date</th>\n",
       "    </tr>\n",
       "  </thead>\n",
       "  <tbody>\n",
       "    <tr>\n",
       "      <th>0</th>\n",
       "      <td>519451311</td>\n",
       "      <td>36189.24</td>\n",
       "      <td>2020-03-31</td>\n",
       "    </tr>\n",
       "    <tr>\n",
       "      <th>0</th>\n",
       "      <td>582007259</td>\n",
       "      <td>56949.41</td>\n",
       "      <td>2020-01-31</td>\n",
       "    </tr>\n",
       "    <tr>\n",
       "      <th>0</th>\n",
       "      <td>567260019</td>\n",
       "      <td>37487.48</td>\n",
       "      <td>2019-11-22</td>\n",
       "    </tr>\n",
       "    <tr>\n",
       "      <th>1</th>\n",
       "      <td>553431815</td>\n",
       "      <td>116700.64</td>\n",
       "      <td>2019-12-16</td>\n",
       "    </tr>\n",
       "    <tr>\n",
       "      <th>0</th>\n",
       "      <td>595104624</td>\n",
       "      <td>33484.06</td>\n",
       "      <td>2020-03-17</td>\n",
       "    </tr>\n",
       "  </tbody>\n",
       "</table>\n",
       "</div>"
      ],
      "text/plain": [
       "     user_id   spending        date\n",
       "0  519451311   36189.24  2020-03-31\n",
       "0  582007259   56949.41  2020-01-31\n",
       "0  567260019   37487.48  2019-11-22\n",
       "1  553431815  116700.64  2019-12-16\n",
       "0  595104624   33484.06  2020-03-17"
      ]
     },
     "execution_count": 21,
     "metadata": {},
     "output_type": "execute_result"
    }
   ],
   "source": [
    "columns = ['user_id', 'spending', 'date']\n",
    "reader = MergedDataFrameReader('../output/exploreUsersWithMaxSpending/topUserSpendingPerDayResult.csv', columns)\n",
    "user_spending_df = reader.read_csvs_as_one()\n",
    "user_spending_df.head()"
   ]
  },
  {
   "cell_type": "code",
   "execution_count": 22,
   "metadata": {},
   "outputs": [
    {
     "data": {
      "text/plain": [
       "595104624    5\n",
       "553431815    5\n",
       "513901034    4\n",
       "602281209    3\n",
       "569333570    3\n",
       "            ..\n",
       "513409449    1\n",
       "644786087    1\n",
       "515917884    1\n",
       "516674469    1\n",
       "624819201    1\n",
       "Name: user_id, Length: 175, dtype: int64"
      ]
     },
     "execution_count": 22,
     "metadata": {},
     "output_type": "execute_result"
    }
   ],
   "source": [
    "user_spending_df['user_id'].value_counts()"
   ]
  },
  {
   "cell_type": "markdown",
   "metadata": {},
   "source": [
    "Users `595104624` and `553431815` were the only two users that had the most daily spending on this site for 5 days."
   ]
  },
  {
   "cell_type": "code",
   "execution_count": 23,
   "metadata": {},
   "outputs": [
    {
     "data": {
      "text/html": [
       "<div>\n",
       "<style scoped>\n",
       "    .dataframe tbody tr th:only-of-type {\n",
       "        vertical-align: middle;\n",
       "    }\n",
       "\n",
       "    .dataframe tbody tr th {\n",
       "        vertical-align: top;\n",
       "    }\n",
       "\n",
       "    .dataframe thead th {\n",
       "        text-align: right;\n",
       "    }\n",
       "</style>\n",
       "<table border=\"1\" class=\"dataframe\">\n",
       "  <thead>\n",
       "    <tr style=\"text-align: right;\">\n",
       "      <th></th>\n",
       "      <th>user_id</th>\n",
       "      <th>spending</th>\n",
       "      <th>date</th>\n",
       "    </tr>\n",
       "  </thead>\n",
       "  <tbody>\n",
       "    <tr>\n",
       "      <th>0</th>\n",
       "      <td>563051763</td>\n",
       "      <td>264440.22</td>\n",
       "      <td>2020-02-12</td>\n",
       "    </tr>\n",
       "  </tbody>\n",
       "</table>\n",
       "</div>"
      ],
      "text/plain": [
       "     user_id   spending        date\n",
       "0  563051763  264440.22  2020-02-12"
      ]
     },
     "execution_count": 23,
     "metadata": {},
     "output_type": "execute_result"
    }
   ],
   "source": [
    "user_spending_df[user_spending_df['spending'] == user_spending_df['spending'].max()]"
   ]
  },
  {
   "cell_type": "markdown",
   "metadata": {},
   "source": [
    "But neither of `595104624` and `553431815` produced record-high daily spendings. User `563051763` spent 264,440.22 dollars (unknown currency) on this site on 12 Feb 2020. It would be an incredible amount if it was in USD. If it was in JPY, it would be 2456.76 USD (currency exchange rate as of 5 July 2020), which would still be considered an enormous amount of money as a daily spending. Without background knowledge of the ecommerce site, I could only suspect that the user was trying to stock up items for COVID-19😂."
   ]
  },
  {
   "cell_type": "markdown",
   "metadata": {},
   "source": [
    "### Popular Products"
   ]
  },
  {
   "cell_type": "code",
   "execution_count": 34,
   "metadata": {},
   "outputs": [
    {
     "data": {
      "text/html": [
       "<div>\n",
       "<style scoped>\n",
       "    .dataframe tbody tr th:only-of-type {\n",
       "        vertical-align: middle;\n",
       "    }\n",
       "\n",
       "    .dataframe tbody tr th {\n",
       "        vertical-align: top;\n",
       "    }\n",
       "\n",
       "    .dataframe thead th {\n",
       "        text-align: right;\n",
       "    }\n",
       "</style>\n",
       "<table border=\"1\" class=\"dataframe\">\n",
       "  <thead>\n",
       "    <tr style=\"text-align: right;\">\n",
       "      <th></th>\n",
       "      <th>purchase_count</th>\n",
       "      <th>product_id</th>\n",
       "      <th>rank</th>\n",
       "      <th>month</th>\n",
       "    </tr>\n",
       "  </thead>\n",
       "  <tbody>\n",
       "    <tr>\n",
       "      <th>0</th>\n",
       "      <td>26230</td>\n",
       "      <td>1005100</td>\n",
       "      <td>1</td>\n",
       "      <td>2020-04</td>\n",
       "    </tr>\n",
       "    <tr>\n",
       "      <th>1</th>\n",
       "      <td>22227</td>\n",
       "      <td>1005212</td>\n",
       "      <td>2</td>\n",
       "      <td>2020-04</td>\n",
       "    </tr>\n",
       "    <tr>\n",
       "      <th>2</th>\n",
       "      <td>14915</td>\n",
       "      <td>100068488</td>\n",
       "      <td>3</td>\n",
       "      <td>2020-04</td>\n",
       "    </tr>\n",
       "    <tr>\n",
       "      <th>3</th>\n",
       "      <td>13932</td>\n",
       "      <td>100068493</td>\n",
       "      <td>4</td>\n",
       "      <td>2020-04</td>\n",
       "    </tr>\n",
       "    <tr>\n",
       "      <th>4</th>\n",
       "      <td>12977</td>\n",
       "      <td>1004836</td>\n",
       "      <td>5</td>\n",
       "      <td>2020-04</td>\n",
       "    </tr>\n",
       "  </tbody>\n",
       "</table>\n",
       "</div>"
      ],
      "text/plain": [
       "  purchase_count product_id rank    month\n",
       "0          26230    1005100    1  2020-04\n",
       "1          22227    1005212    2  2020-04\n",
       "2          14915  100068488    3  2020-04\n",
       "3          13932  100068493    4  2020-04\n",
       "4          12977    1004836    5  2020-04"
      ]
     },
     "execution_count": 34,
     "metadata": {},
     "output_type": "execute_result"
    }
   ],
   "source": [
    "columns = ['purchase_count', 'product_id', 'rank', 'month']\n",
    "reader = MergedDataFrameReader('../output/explorePopularProducts/mostPopularProductIdByMonth.csv', columns)\n",
    "popular_products_df = reader.read_csvs_as_one()\n",
    "popular_products_df.head()"
   ]
  },
  {
   "cell_type": "markdown",
   "metadata": {},
   "source": [
    "Ranking of number of purchases by month (Top 50)"
   ]
  },
  {
   "cell_type": "code",
   "execution_count": 35,
   "metadata": {},
   "outputs": [
    {
     "data": {
      "text/html": [
       "<div>\n",
       "<style scoped>\n",
       "    .dataframe tbody tr th:only-of-type {\n",
       "        vertical-align: middle;\n",
       "    }\n",
       "\n",
       "    .dataframe tbody tr th {\n",
       "        vertical-align: top;\n",
       "    }\n",
       "\n",
       "    .dataframe thead th {\n",
       "        text-align: right;\n",
       "    }\n",
       "</style>\n",
       "<table border=\"1\" class=\"dataframe\">\n",
       "  <thead>\n",
       "    <tr style=\"text-align: right;\">\n",
       "      <th>month</th>\n",
       "      <th>2019-10</th>\n",
       "      <th>2019-11</th>\n",
       "      <th>2019-12</th>\n",
       "      <th>2020-01</th>\n",
       "      <th>2020-02</th>\n",
       "      <th>2020-03</th>\n",
       "      <th>2020-04</th>\n",
       "    </tr>\n",
       "  </thead>\n",
       "  <tbody>\n",
       "    <tr>\n",
       "      <th>0</th>\n",
       "      <td>1004856</td>\n",
       "      <td>1004856</td>\n",
       "      <td>1004856</td>\n",
       "      <td>1004767</td>\n",
       "      <td>1004767</td>\n",
       "      <td>1005100</td>\n",
       "      <td>1005100</td>\n",
       "    </tr>\n",
       "    <tr>\n",
       "      <th>1</th>\n",
       "      <td>1004767</td>\n",
       "      <td>1004767</td>\n",
       "      <td>1004767</td>\n",
       "      <td>1005100</td>\n",
       "      <td>1005115</td>\n",
       "      <td>1005115</td>\n",
       "      <td>1005212</td>\n",
       "    </tr>\n",
       "    <tr>\n",
       "      <th>2</th>\n",
       "      <td>1004833</td>\n",
       "      <td>1005115</td>\n",
       "      <td>1005115</td>\n",
       "      <td>1005115</td>\n",
       "      <td>1005100</td>\n",
       "      <td>1004767</td>\n",
       "      <td>100068488</td>\n",
       "    </tr>\n",
       "    <tr>\n",
       "      <th>3</th>\n",
       "      <td>1005115</td>\n",
       "      <td>4804056</td>\n",
       "      <td>1005100</td>\n",
       "      <td>1005212</td>\n",
       "      <td>4804056</td>\n",
       "      <td>1005212</td>\n",
       "      <td>100068493</td>\n",
       "    </tr>\n",
       "    <tr>\n",
       "      <th>4</th>\n",
       "      <td>4804056</td>\n",
       "      <td>1004833</td>\n",
       "      <td>4804056</td>\n",
       "      <td>4804056</td>\n",
       "      <td>1002544</td>\n",
       "      <td>4804056</td>\n",
       "      <td>1004836</td>\n",
       "    </tr>\n",
       "    <tr>\n",
       "      <th>5</th>\n",
       "      <td>1004870</td>\n",
       "      <td>1002544</td>\n",
       "      <td>1002544</td>\n",
       "      <td>1002544</td>\n",
       "      <td>1005212</td>\n",
       "      <td>1002544</td>\n",
       "      <td>1002544</td>\n",
       "    </tr>\n",
       "    <tr>\n",
       "      <th>6</th>\n",
       "      <td>1002544</td>\n",
       "      <td>1004870</td>\n",
       "      <td>1004870</td>\n",
       "      <td>1005160</td>\n",
       "      <td>100068488</td>\n",
       "      <td>100068488</td>\n",
       "      <td>1005160</td>\n",
       "    </tr>\n",
       "    <tr>\n",
       "      <th>7</th>\n",
       "      <td>1004249</td>\n",
       "      <td>1005100</td>\n",
       "      <td>1005212</td>\n",
       "      <td>1005105</td>\n",
       "      <td>1005160</td>\n",
       "      <td>1004856</td>\n",
       "      <td>4804056</td>\n",
       "    </tr>\n",
       "    <tr>\n",
       "      <th>8</th>\n",
       "      <td>1004836</td>\n",
       "      <td>1004249</td>\n",
       "      <td>1004249</td>\n",
       "      <td>1004873</td>\n",
       "      <td>1005105</td>\n",
       "      <td>1005160</td>\n",
       "      <td>1004856</td>\n",
       "    </tr>\n",
       "    <tr>\n",
       "      <th>9</th>\n",
       "      <td>1005105</td>\n",
       "      <td>1005105</td>\n",
       "      <td>1005160</td>\n",
       "      <td>1004856</td>\n",
       "      <td>1004856</td>\n",
       "      <td>1005105</td>\n",
       "      <td>1005115</td>\n",
       "    </tr>\n",
       "    <tr>\n",
       "      <th>10</th>\n",
       "      <td>5100816</td>\n",
       "      <td>1004836</td>\n",
       "      <td>1005105</td>\n",
       "      <td>1004249</td>\n",
       "      <td>1004249</td>\n",
       "      <td>1004836</td>\n",
       "      <td>1005169</td>\n",
       "    </tr>\n",
       "    <tr>\n",
       "      <th>11</th>\n",
       "      <td>1002524</td>\n",
       "      <td>1005160</td>\n",
       "      <td>1004873</td>\n",
       "      <td>1004903</td>\n",
       "      <td>1005169</td>\n",
       "      <td>1004249</td>\n",
       "      <td>1005223</td>\n",
       "    </tr>\n",
       "    <tr>\n",
       "      <th>12</th>\n",
       "      <td>1004873</td>\n",
       "      <td>5100816</td>\n",
       "      <td>5100816</td>\n",
       "      <td>1004870</td>\n",
       "      <td>1005116</td>\n",
       "      <td>100068493</td>\n",
       "      <td>1004838</td>\n",
       "    </tr>\n",
       "    <tr>\n",
       "      <th>13</th>\n",
       "      <td>1002633</td>\n",
       "      <td>1002524</td>\n",
       "      <td>1005116</td>\n",
       "      <td>1005169</td>\n",
       "      <td>1004226</td>\n",
       "      <td>1004226</td>\n",
       "      <td>1004870</td>\n",
       "    </tr>\n",
       "    <tr>\n",
       "      <th>14</th>\n",
       "      <td>1004741</td>\n",
       "      <td>1004873</td>\n",
       "      <td>1005161</td>\n",
       "      <td>5100816</td>\n",
       "      <td>4804055</td>\n",
       "      <td>100086203</td>\n",
       "      <td>100086203</td>\n",
       "    </tr>\n",
       "    <tr>\n",
       "      <th>15</th>\n",
       "      <td>1005100</td>\n",
       "      <td>1005116</td>\n",
       "      <td>1004838</td>\n",
       "      <td>1005161</td>\n",
       "      <td>1004873</td>\n",
       "      <td>1005169</td>\n",
       "      <td>1004249</td>\n",
       "    </tr>\n",
       "    <tr>\n",
       "      <th>16</th>\n",
       "      <td>1004750</td>\n",
       "      <td>1004838</td>\n",
       "      <td>1004903</td>\n",
       "      <td>1005174</td>\n",
       "      <td>5100816</td>\n",
       "      <td>5100816</td>\n",
       "      <td>100068491</td>\n",
       "    </tr>\n",
       "    <tr>\n",
       "      <th>17</th>\n",
       "      <td>1003306</td>\n",
       "      <td>1002633</td>\n",
       "      <td>1004785</td>\n",
       "      <td>1002524</td>\n",
       "      <td>1005203</td>\n",
       "      <td>1005116</td>\n",
       "      <td>1005098</td>\n",
       "    </tr>\n",
       "    <tr>\n",
       "      <th>18</th>\n",
       "      <td>1004739</td>\n",
       "      <td>1005135</td>\n",
       "      <td>1004836</td>\n",
       "      <td>1005116</td>\n",
       "      <td>1004836</td>\n",
       "      <td>4804055</td>\n",
       "      <td>5100816</td>\n",
       "    </tr>\n",
       "    <tr>\n",
       "      <th>19</th>\n",
       "      <td>1004838</td>\n",
       "      <td>1004750</td>\n",
       "      <td>1005174</td>\n",
       "      <td>1005159</td>\n",
       "      <td>100068493</td>\n",
       "      <td>1005223</td>\n",
       "      <td>100068496</td>\n",
       "    </tr>\n",
       "    <tr>\n",
       "      <th>20</th>\n",
       "      <td>1004565</td>\n",
       "      <td>4804055</td>\n",
       "      <td>1005169</td>\n",
       "      <td>4804055</td>\n",
       "      <td>1005135</td>\n",
       "      <td>1004838</td>\n",
       "      <td>1005116</td>\n",
       "    </tr>\n",
       "    <tr>\n",
       "      <th>21</th>\n",
       "      <td>4804295</td>\n",
       "      <td>1004785</td>\n",
       "      <td>1002524</td>\n",
       "      <td>1005135</td>\n",
       "      <td>1005159</td>\n",
       "      <td>1004227</td>\n",
       "      <td>1005205</td>\n",
       "    </tr>\n",
       "    <tr>\n",
       "      <th>22</th>\n",
       "      <td>1004858</td>\n",
       "      <td>1004565</td>\n",
       "      <td>4804055</td>\n",
       "      <td>1004226</td>\n",
       "      <td>4804718</td>\n",
       "      <td>1005118</td>\n",
       "      <td>1004226</td>\n",
       "    </tr>\n",
       "    <tr>\n",
       "      <th>23</th>\n",
       "      <td>1004785</td>\n",
       "      <td>1004858</td>\n",
       "      <td>1004833</td>\n",
       "      <td>1004836</td>\n",
       "      <td>1002524</td>\n",
       "      <td>1005135</td>\n",
       "      <td>1005105</td>\n",
       "    </tr>\n",
       "    <tr>\n",
       "      <th>24</th>\n",
       "      <td>4804055</td>\n",
       "      <td>1005174</td>\n",
       "      <td>1005098</td>\n",
       "      <td>1005177</td>\n",
       "      <td>1005161</td>\n",
       "      <td>1004870</td>\n",
       "      <td>1005211</td>\n",
       "    </tr>\n",
       "    <tr>\n",
       "      <th>25</th>\n",
       "      <td>1003317</td>\n",
       "      <td>1005161</td>\n",
       "      <td>4100346</td>\n",
       "      <td>1004209</td>\n",
       "      <td>1004838</td>\n",
       "      <td>1005098</td>\n",
       "      <td>100011103</td>\n",
       "    </tr>\n",
       "    <tr>\n",
       "      <th>26</th>\n",
       "      <td>1005135</td>\n",
       "      <td>4804295</td>\n",
       "      <td>1005159</td>\n",
       "      <td>1004785</td>\n",
       "      <td>1004870</td>\n",
       "      <td>1002524</td>\n",
       "      <td>100143638</td>\n",
       "    </tr>\n",
       "    <tr>\n",
       "      <th>27</th>\n",
       "      <td>1004258</td>\n",
       "      <td>1801690</td>\n",
       "      <td>1005135</td>\n",
       "      <td>1005098</td>\n",
       "      <td>1004785</td>\n",
       "      <td>4804718</td>\n",
       "      <td>1005238</td>\n",
       "    </tr>\n",
       "    <tr>\n",
       "      <th>28</th>\n",
       "      <td>1004209</td>\n",
       "      <td>1003306</td>\n",
       "      <td>4804718</td>\n",
       "      <td>4804718</td>\n",
       "      <td>1005003</td>\n",
       "      <td>100068491</td>\n",
       "      <td>100009754</td>\n",
       "    </tr>\n",
       "    <tr>\n",
       "      <th>29</th>\n",
       "      <td>1801690</td>\n",
       "      <td>1004741</td>\n",
       "      <td>1005253</td>\n",
       "      <td>1005203</td>\n",
       "      <td>1004227</td>\n",
       "      <td>4804660</td>\n",
       "      <td>1004723</td>\n",
       "    </tr>\n",
       "    <tr>\n",
       "      <th>30</th>\n",
       "      <td>1004768</td>\n",
       "      <td>4100346</td>\n",
       "      <td>1005177</td>\n",
       "      <td>1004838</td>\n",
       "      <td>1005118</td>\n",
       "      <td>1004873</td>\n",
       "      <td>1005003</td>\n",
       "    </tr>\n",
       "    <tr>\n",
       "      <th>31</th>\n",
       "      <td>1004659</td>\n",
       "      <td>1004768</td>\n",
       "      <td>1004768</td>\n",
       "      <td>100068488</td>\n",
       "      <td>1005132</td>\n",
       "      <td>1005159</td>\n",
       "      <td>4804660</td>\n",
       "    </tr>\n",
       "    <tr>\n",
       "      <th>32</th>\n",
       "      <td>1005160</td>\n",
       "      <td>1005098</td>\n",
       "      <td>1004565</td>\n",
       "      <td>1003306</td>\n",
       "      <td>1005098</td>\n",
       "      <td>1005132</td>\n",
       "      <td>1004858</td>\n",
       "    </tr>\n",
       "    <tr>\n",
       "      <th>33</th>\n",
       "      <td>1004857</td>\n",
       "      <td>1005239</td>\n",
       "      <td>4804295</td>\n",
       "      <td>1004768</td>\n",
       "      <td>1005119</td>\n",
       "      <td>1004785</td>\n",
       "      <td>1801690</td>\n",
       "    </tr>\n",
       "    <tr>\n",
       "      <th>34</th>\n",
       "      <td>1004237</td>\n",
       "      <td>1005159</td>\n",
       "      <td>1801690</td>\n",
       "      <td>1004227</td>\n",
       "      <td>1005217</td>\n",
       "      <td>1003306</td>\n",
       "      <td>100190575</td>\n",
       "    </tr>\n",
       "    <tr>\n",
       "      <th>35</th>\n",
       "      <td>1004246</td>\n",
       "      <td>12703015</td>\n",
       "      <td>1004857</td>\n",
       "      <td>1005132</td>\n",
       "      <td>1003306</td>\n",
       "      <td>1005205</td>\n",
       "      <td>1004767</td>\n",
       "    </tr>\n",
       "    <tr>\n",
       "      <th>36</th>\n",
       "      <td>1004777</td>\n",
       "      <td>1004209</td>\n",
       "      <td>1005217</td>\n",
       "      <td>1002547</td>\n",
       "      <td>4803977</td>\n",
       "      <td>1005003</td>\n",
       "      <td>1005118</td>\n",
       "    </tr>\n",
       "    <tr>\n",
       "      <th>37</th>\n",
       "      <td>1005116</td>\n",
       "      <td>1005169</td>\n",
       "      <td>1005203</td>\n",
       "      <td>1005205</td>\n",
       "      <td>4804660</td>\n",
       "      <td>1004723</td>\n",
       "      <td>100013980</td>\n",
       "    </tr>\n",
       "    <tr>\n",
       "      <th>38</th>\n",
       "      <td>1004781</td>\n",
       "      <td>4804718</td>\n",
       "      <td>1005118</td>\n",
       "      <td>1801690</td>\n",
       "      <td>1004723</td>\n",
       "      <td>1307545</td>\n",
       "      <td>1005253</td>\n",
       "    </tr>\n",
       "    <tr>\n",
       "      <th>39</th>\n",
       "      <td>1005008</td>\n",
       "      <td>1005212</td>\n",
       "      <td>1004209</td>\n",
       "      <td>4100346</td>\n",
       "      <td>1004209</td>\n",
       "      <td>1801690</td>\n",
       "      <td>1004785</td>\n",
       "    </tr>\n",
       "    <tr>\n",
       "      <th>40</th>\n",
       "      <td>1003316</td>\n",
       "      <td>1004659</td>\n",
       "      <td>4803977</td>\n",
       "      <td>4804295</td>\n",
       "      <td>1002547</td>\n",
       "      <td>1005211</td>\n",
       "      <td>3700926</td>\n",
       "    </tr>\n",
       "    <tr>\n",
       "      <th>41</th>\n",
       "      <td>1004834</td>\n",
       "      <td>1005217</td>\n",
       "      <td>1005132</td>\n",
       "      <td>4804660</td>\n",
       "      <td>4804295</td>\n",
       "      <td>4803977</td>\n",
       "      <td>1004835</td>\n",
       "    </tr>\n",
       "    <tr>\n",
       "      <th>42</th>\n",
       "      <td>1003304</td>\n",
       "      <td>1004258</td>\n",
       "      <td>1004258</td>\n",
       "      <td>1004723</td>\n",
       "      <td>1004659</td>\n",
       "      <td>1005017</td>\n",
       "      <td>1801881</td>\n",
       "    </tr>\n",
       "    <tr>\n",
       "      <th>43</th>\n",
       "      <td>1004250</td>\n",
       "      <td>1005186</td>\n",
       "      <td>1004781</td>\n",
       "      <td>1004766</td>\n",
       "      <td>1004768</td>\n",
       "      <td>1002547</td>\n",
       "      <td>1002524</td>\n",
       "    </tr>\n",
       "    <tr>\n",
       "      <th>44</th>\n",
       "      <td>1003310</td>\n",
       "      <td>1005203</td>\n",
       "      <td>1002547</td>\n",
       "      <td>1005217</td>\n",
       "      <td>1307589</td>\n",
       "      <td>1004659</td>\n",
       "      <td>100154083</td>\n",
       "    </tr>\n",
       "    <tr>\n",
       "      <th>45</th>\n",
       "      <td>1005098</td>\n",
       "      <td>1801766</td>\n",
       "      <td>1003306</td>\n",
       "      <td>1005124</td>\n",
       "      <td>100086203</td>\n",
       "      <td>1005124</td>\n",
       "      <td>4804295</td>\n",
       "    </tr>\n",
       "    <tr>\n",
       "      <th>46</th>\n",
       "      <td>1004903</td>\n",
       "      <td>1004246</td>\n",
       "      <td>1005124</td>\n",
       "      <td>1005118</td>\n",
       "      <td>1005129</td>\n",
       "      <td>1004768</td>\n",
       "      <td>1005225</td>\n",
       "    </tr>\n",
       "    <tr>\n",
       "      <th>47</th>\n",
       "      <td>3700926</td>\n",
       "      <td>1004781</td>\n",
       "      <td>1801766</td>\n",
       "      <td>1005239</td>\n",
       "      <td>1005205</td>\n",
       "      <td>1005014</td>\n",
       "      <td>1004886</td>\n",
       "    </tr>\n",
       "    <tr>\n",
       "      <th>48</th>\n",
       "      <td>12703015</td>\n",
       "      <td>1003317</td>\n",
       "      <td>1005221</td>\n",
       "      <td>1801766</td>\n",
       "      <td>100068491</td>\n",
       "      <td>100068496</td>\n",
       "      <td>1005159</td>\n",
       "    </tr>\n",
       "    <tr>\n",
       "      <th>49</th>\n",
       "      <td>1005104</td>\n",
       "      <td>1005008</td>\n",
       "      <td>1004708</td>\n",
       "      <td>1005253</td>\n",
       "      <td>1005014</td>\n",
       "      <td>1005161</td>\n",
       "      <td>1004720</td>\n",
       "    </tr>\n",
       "  </tbody>\n",
       "</table>\n",
       "</div>"
      ],
      "text/plain": [
       "month   2019-10   2019-11  2019-12    2020-01    2020-02    2020-03    2020-04\n",
       "0       1004856   1004856  1004856    1004767    1004767    1005100    1005100\n",
       "1       1004767   1004767  1004767    1005100    1005115    1005115    1005212\n",
       "2       1004833   1005115  1005115    1005115    1005100    1004767  100068488\n",
       "3       1005115   4804056  1005100    1005212    4804056    1005212  100068493\n",
       "4       4804056   1004833  4804056    4804056    1002544    4804056    1004836\n",
       "5       1004870   1002544  1002544    1002544    1005212    1002544    1002544\n",
       "6       1002544   1004870  1004870    1005160  100068488  100068488    1005160\n",
       "7       1004249   1005100  1005212    1005105    1005160    1004856    4804056\n",
       "8       1004836   1004249  1004249    1004873    1005105    1005160    1004856\n",
       "9       1005105   1005105  1005160    1004856    1004856    1005105    1005115\n",
       "10      5100816   1004836  1005105    1004249    1004249    1004836    1005169\n",
       "11      1002524   1005160  1004873    1004903    1005169    1004249    1005223\n",
       "12      1004873   5100816  5100816    1004870    1005116  100068493    1004838\n",
       "13      1002633   1002524  1005116    1005169    1004226    1004226    1004870\n",
       "14      1004741   1004873  1005161    5100816    4804055  100086203  100086203\n",
       "15      1005100   1005116  1004838    1005161    1004873    1005169    1004249\n",
       "16      1004750   1004838  1004903    1005174    5100816    5100816  100068491\n",
       "17      1003306   1002633  1004785    1002524    1005203    1005116    1005098\n",
       "18      1004739   1005135  1004836    1005116    1004836    4804055    5100816\n",
       "19      1004838   1004750  1005174    1005159  100068493    1005223  100068496\n",
       "20      1004565   4804055  1005169    4804055    1005135    1004838    1005116\n",
       "21      4804295   1004785  1002524    1005135    1005159    1004227    1005205\n",
       "22      1004858   1004565  4804055    1004226    4804718    1005118    1004226\n",
       "23      1004785   1004858  1004833    1004836    1002524    1005135    1005105\n",
       "24      4804055   1005174  1005098    1005177    1005161    1004870    1005211\n",
       "25      1003317   1005161  4100346    1004209    1004838    1005098  100011103\n",
       "26      1005135   4804295  1005159    1004785    1004870    1002524  100143638\n",
       "27      1004258   1801690  1005135    1005098    1004785    4804718    1005238\n",
       "28      1004209   1003306  4804718    4804718    1005003  100068491  100009754\n",
       "29      1801690   1004741  1005253    1005203    1004227    4804660    1004723\n",
       "30      1004768   4100346  1005177    1004838    1005118    1004873    1005003\n",
       "31      1004659   1004768  1004768  100068488    1005132    1005159    4804660\n",
       "32      1005160   1005098  1004565    1003306    1005098    1005132    1004858\n",
       "33      1004857   1005239  4804295    1004768    1005119    1004785    1801690\n",
       "34      1004237   1005159  1801690    1004227    1005217    1003306  100190575\n",
       "35      1004246  12703015  1004857    1005132    1003306    1005205    1004767\n",
       "36      1004777   1004209  1005217    1002547    4803977    1005003    1005118\n",
       "37      1005116   1005169  1005203    1005205    4804660    1004723  100013980\n",
       "38      1004781   4804718  1005118    1801690    1004723    1307545    1005253\n",
       "39      1005008   1005212  1004209    4100346    1004209    1801690    1004785\n",
       "40      1003316   1004659  4803977    4804295    1002547    1005211    3700926\n",
       "41      1004834   1005217  1005132    4804660    4804295    4803977    1004835\n",
       "42      1003304   1004258  1004258    1004723    1004659    1005017    1801881\n",
       "43      1004250   1005186  1004781    1004766    1004768    1002547    1002524\n",
       "44      1003310   1005203  1002547    1005217    1307589    1004659  100154083\n",
       "45      1005098   1801766  1003306    1005124  100086203    1005124    4804295\n",
       "46      1004903   1004246  1005124    1005118    1005129    1004768    1005225\n",
       "47      3700926   1004781  1801766    1005239    1005205    1005014    1004886\n",
       "48     12703015   1003317  1005221    1801766  100068491  100068496    1005159\n",
       "49      1005104   1005008  1004708    1005253    1005014    1005161    1004720"
      ]
     },
     "execution_count": 35,
     "metadata": {},
     "output_type": "execute_result"
    }
   ],
   "source": [
    "popular_products_df = popular_products_df.pivot(columns='month')['product_id']\n",
    "popular_products_df"
   ]
  },
  {
   "cell_type": "markdown",
   "metadata": {},
   "source": [
    "Products that are always the top 50 purchased over the 7-month period"
   ]
  },
  {
   "cell_type": "code",
   "execution_count": 42,
   "metadata": {},
   "outputs": [
    {
     "data": {
      "text/plain": [
       "[1004836,\n",
       " 1004838,\n",
       " 1004870,\n",
       " 4804056,\n",
       " 1005160,\n",
       " 1005098,\n",
       " 1005100,\n",
       " 5100816,\n",
       " 1002544,\n",
       " 1005105,\n",
       " 1004785,\n",
       " 1004856,\n",
       " 1004249,\n",
       " 1005115,\n",
       " 1002524,\n",
       " 1005116,\n",
       " 1004767]"
      ]
     },
     "execution_count": 42,
     "metadata": {},
     "output_type": "execute_result"
    }
   ],
   "source": [
    "list(\n",
    " set(popular_products_df['2019-10'])\n",
    ".intersection(set(popular_products_df['2019-11']))\n",
    ".intersection(set(popular_products_df['2019-12']))\n",
    ".intersection(set(popular_products_df['2020-01']))\n",
    ".intersection(set(popular_products_df['2020-02']))\n",
    ".intersection(set(popular_products_df['2020-03']))\n",
    ".intersection(set(popular_products_df['2020-04']))\n",
    ")"
   ]
  },
  {
   "cell_type": "code",
   "execution_count": null,
   "metadata": {},
   "outputs": [],
   "source": []
  },
  {
   "cell_type": "code",
   "execution_count": null,
   "metadata": {},
   "outputs": [],
   "source": []
  }
 ],
 "metadata": {
  "kernelspec": {
   "display_name": "Python 3",
   "language": "python",
   "name": "python3"
  },
  "language_info": {
   "codemirror_mode": {
    "name": "ipython",
    "version": 3
   },
   "file_extension": ".py",
   "mimetype": "text/x-python",
   "name": "python",
   "nbconvert_exporter": "python",
   "pygments_lexer": "ipython3",
   "version": "3.7.7"
  }
 },
 "nbformat": 4,
 "nbformat_minor": 4
}
